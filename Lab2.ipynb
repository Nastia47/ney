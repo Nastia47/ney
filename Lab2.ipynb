{
  "nbformat": 4,
  "nbformat_minor": 0,
  "metadata": {
    "colab": {
      "name": "Lab2.ipynb",
      "provenance": []
    },
    "kernelspec": {
      "name": "python3",
      "display_name": "Python 3"
    },
    "language_info": {
      "name": "python"
    }
  },
  "cells": [
    {
      "cell_type": "code",
      "execution_count": 19,
      "metadata": {
        "colab": {
          "base_uri": "https://localhost:8080/"
        },
        "id": "lweY0iS5O31B",
        "outputId": "4b11848d-6451-4ce6-bdaf-be8518f4ff03"
      },
      "outputs": [
        {
          "output_type": "execute_result",
          "data": {
            "text/plain": [
              "<tf.Tensor: shape=(9,), dtype=float16, numpy=array([ 1.,  2.,  3.,  4.,  5.,  6.,  7.,  8., 10.], dtype=float16)>"
            ]
          },
          "metadata": {},
          "execution_count": 19
        }
      ],
      "source": [
        "#створити набір даних із заданим розподілом (розподіл та розмір за власним рішенням), визначити його властивості (shape, rank, size, axis)\n",
        "import tensorflow as tf\n",
        "import numpy as np\n",
        "v = tf.constant([1,2,3,4,5,6,7,8,10])\n",
        "v\n",
        "v.shape\n",
        "v.ndim\n",
        "tf.size(v)\n",
        "#продемонструвати основні математичні операції над тензорами\n",
        "v+2, v*5, tf.reduce_max(v),tf.square(v)\n",
        "#провести CRUD операції над даними, reshape, інтеграцію з np.array, pd.DataFrame\n",
        "c = tf.constant(np.array([1, 2, 3, 4]))\n",
        "c\n",
        "a=([1,2],[3,4],[5,6])\n",
        "tf.reshape(a, shape=(2, 3))\n",
        "V = tf.cast(v, dtype=tf.float16)\n",
        "V"
      ]
    }
  ]
}