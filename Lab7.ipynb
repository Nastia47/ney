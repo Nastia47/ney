{
  "nbformat": 4,
  "nbformat_minor": 0,
  "metadata": {
    "colab": {
      "name": "Lab7.ipynb",
      "provenance": []
    },
    "kernelspec": {
      "name": "python3",
      "display_name": "Python 3"
    },
    "language_info": {
      "name": "python"
    }
  },
  "cells": [
    {
      "cell_type": "code",
      "execution_count": null,
      "metadata": {
        "id": "DW4LPrIzESPa"
      },
      "outputs": [],
      "source": [
        "#Bиконати прогнозування часових рядів model_5_LSTM \n",
        "import tensorflow as tf\n",
        "from tensorflow.keras import layers\n",
        "#Створення моделі\n",
        "tf.random.set_seed(42)\n",
        "WINDOW_SIZE = 7\n",
        "HORIZON = 1\n",
        "def make_train_test_splits(windows, labels, test_split=0.2):\n",
        "  split_size = int(len(windows) * (1-test_split)) \n",
        "  train_windows = windows[:split_size]\n",
        "  train_labels = labels[:split_size]\n",
        "  test_windows = windows[split_size:]\n",
        "  test_labels = labels[split_size:]\n",
        "  return train_windows, test_windows, train_labels, test_labels\n",
        "inputs = layers.Input(shape=(WINDOW_SIZE))\n",
        "x = layers.Lambda(lambda x: tf.expand_dims(x, axis=1))(inputs) \n",
        "x = layers.LSTM(128, activation=\"relu\")(x) \n",
        "output = layers.Dense(HORIZON)(x)\n",
        "mymodel = tf.keras.Model(inputs=inputs, outputs=output, name=\"mymodel\")\n",
        "mymodel.compile(loss=\"mae\",\n",
        "                optimizer=tf.keras.optimizers.Adam())\n",
        "mymodel.fit(train_windows,\n",
        "            train_labels,\n",
        "            epochs=100,\n",
        "            verbose=0,\n",
        "            batch_size=128,\n",
        "            validation_data=(test_windows, test_labels),\n",
        "            callbacks=[create_model_checkpoint(model_name=mymodel.name)])\n",
        "mymodel = tf.keras.models.load_model(\"model_experiments/mymodel/\")\n",
        "mymodel.evaluate(test_windows, test_labels)\n",
        "# Прогнози за допомогою моделі LSTM\n",
        "mymodel_preds = make_preds(mymodel, test_windows)\n",
        "mymodel_preds[:10]\n",
        "\n"
      ]
    }
  ]
}