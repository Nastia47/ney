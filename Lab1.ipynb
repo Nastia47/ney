{
  "nbformat": 4,
  "nbformat_minor": 0,
  "metadata": {
    "colab": {
      "name": "Lab1",
      "provenance": [],
      "collapsed_sections": []
    },
    "kernelspec": {
      "name": "python3",
      "display_name": "Python 3"
    },
    "language_info": {
      "name": "python"
    }
  },
  "cells": [
    {
      "cell_type": "code",
      "execution_count": null,
      "metadata": {
        "id": "z8OerxuB31qQ"
      },
      "outputs": [],
      "source": [
        "#NumPy (створити набір даних (розмір за власним рішенням), провести CRUD операції над даними (скаляр, вектор, матриця)). Властивість shape та метод  reshape. Операції над масивами. Використати arange, random.\n",
        "import numpy as np\n",
        "# CRUD вектор\n",
        "a=np.arange(1, 12)\n",
        "print(a)\n",
        "a = np.delete(a,a[2:7]) \n",
        "print(a)\n",
        "np.shape(a)\n",
        "print(a)\n",
        "# CRUD матриця\n",
        "b= np.array([[1, 2], [3, 4],[5, 6], [7, 8]])\n",
        "print(b)\n",
        "b = np.delete( b, 1, 1)\n",
        "print(b)\n"
      ]
    },
    {
      "cell_type": "code",
      "source": [
        "#Pandas (створити dataframe різними способами, провести маніпуляції з даними (head, describe, iloc, loc, індексація з умовами відбору, групування, пошук «пустих» значень, сортування..);\n",
        "import pandas as pd\n",
        "#1\n",
        "data = [['NAstia', 19], ['Andriy', 18], ['Julia', 36]]\n",
        "df = pd.DataFrame(data, columns=['Name', 'Age'])\n",
        "print(df)\n",
        "#2\n",
        "data = {'Name': ['NAstia', 'Andriy', 'Julia', ],\n",
        "        'Age': [19, 18, 36]}\n",
        "ff = pd.DataFrame(data)\n",
        "print(ff)\n",
        "ff.head(2)\n",
        "df.describe()\n",
        "ff.iloc[0]\n",
        "df.loc[2]\n",
        "df.sort_values(by=['Age'])\n"
      ],
      "metadata": {
        "id": "RbQksmw639fB"
      },
      "execution_count": null,
      "outputs": []
    },
    {
      "cell_type": "code",
      "source": [
        "#Matplotlib (створити набір даних лінійної функції з урахуванням помилок вимірювань, побудувати графік функції та згенерованих даних, обчислити похибку з використанням метрик MAE, MSE). Записати отримані результати у csv файл (формат: X,Y, Y_hat, mAE, mSE)\n",
        "import matplotlib.pyplot as plt\n",
        "#y=3x-4\n",
        "x = [0, 1, 2, 2.5, 3]\n",
        "y = [-4, -1, 2, 4, 5]\n",
        "g = [0] * len(y)\n",
        "for n in range(len(y)):\n",
        "  g[n] = 3 * x[n] -4\n",
        "plt.scatter(x, y, color = 'red')\n",
        "plt.plot(x, g)\n"
      ],
      "metadata": {
        "id": "2IlrMob1AWFk"
      },
      "execution_count": null,
      "outputs": []
    },
    {
      "cell_type": "code",
      "source": [
        "#Google colab різні способи завантаження наборів даних з інтернету, з власного компютера, з google-drive)\n",
        "#комп'ютер\n",
        "from google.colab import files\n",
        "uploaded = files.upload()\n",
        "#google-drive\n",
        "from google.colab import drive\n",
        "drive.mount('/content/gdrive')"
      ],
      "metadata": {
        "id": "73u_fRayDGsh"
      },
      "execution_count": null,
      "outputs": []
    }
  ]
}